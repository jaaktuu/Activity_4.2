{
 "cells": [
  {
   "cell_type": "markdown",
   "metadata": {
    "id": "kPj76X_FP2uq"
   },
   "source": [
    "## Setup\n",
    "\n",
    "Run the code below to load the scrambled message:\n"
   ]
  },
  {
   "cell_type": "code",
   "execution_count": 87,
   "metadata": {
    "id": "YwkYMR2qP2ur"
   },
   "outputs": [],
   "source": [
    "import pandas as pd\n",
    "import re\n",
    "\n",
    "message = pd.read_csv(\"https://www.dropbox.com/s/lgpn3vmksk3ssdo/scrambled_message.txt?dl=1\")['Word']"
   ]
  },
  {
   "cell_type": "markdown",
   "metadata": {
    "id": "cI8ZE3LAP2us"
   },
   "source": [
    "In this activity, a \"word\" refers to any set of characters with no white space, even though they are not truly an English word.  That is, even though many of elements of the scrambled message vector are nonsense, and some have punctuation, you can consider each element to be a \"word\".\n",
    "\n",
    "Beware!  The object named `message` is a **pandas Series** of strings.  If you want to use functions that expect a string, rather than a series, remember `.apply()` and `lambda` functions.\n",
    "\n"
   ]
  },
  {
   "cell_type": "markdown",
   "metadata": {
    "id": "dYISAD8uQLAy"
   },
   "source": [
    "\n",
    "## Warm-up exercises\n",
    "\n",
    "1. How many characters are in the scrambled message?\n",
    "2. How many of these characters are white space?\n",
    "3. How many words are in the scrambled message?\n",
    "4. Show all the punctuation marks in the scrambled message.\n",
    "5. Print out, in all capitals, the longest word in the scrambled message.\n",
    "6. Print out every piece of a word that starts with the letter \"m\" and ends with the letter \"z\" in the scrambled message."
   ]
  },
  {
   "cell_type": "code",
   "execution_count": 176,
   "metadata": {},
   "outputs": [
    {
     "data": {
      "text/plain": [
       "2544"
      ]
     },
     "execution_count": 176,
     "metadata": {},
     "output_type": "execute_result"
    }
   ],
   "source": []
  },
  {
   "cell_type": "code",
   "execution_count": 180,
   "metadata": {
    "id": "6vB1tbjiQNvE"
   },
   "outputs": [
    {
     "name": "stdout",
     "output_type": "stream",
     "text": [
      "Character count: 2544\n",
      "Whitespace count: 1652\n",
      "Word count: 151\n"
     ]
    }
   ],
   "source": [
    "\n",
    "#Number of characters\n",
    "print(\"Character count: \" + message.apply(len).sum().astype(str))\n",
    "\n",
    "#Whitespace Count\n",
    "print(\"Whitespace count: \" + message.str.count(\" \").sum().astype(str))\n",
    "\n",
    "#Word Count\n",
    "print(\"Word count: \" + message.str.findall(\"\\w+\").str.len().sum().astype(str))\n"
   ]
  },
  {
   "cell_type": "code",
   "execution_count": 181,
   "metadata": {},
   "outputs": [
    {
     "name": "stdout",
     "output_type": "stream",
     "text": [
      "['', '!', '', '', '', ',', '', '', '', '', '', '?', '', '', ',', '', '', '', '', '', '', '', '', '', '', '', '!', '', '', '', '', '', '', '', '', '', '', '!', '', '', '.', '', '!', '', ',', '', '!', '', '?', '?', '', '', '', '?', '?', '', '?', ',', '', '?', '', '', '', '', '', '', '', '', '', '', '', '', '!', '', '', '', '', ',', '', '.', '?', '', ',', '', '', '', '', '', '', '', '', '', '', '', '', '', '', '', '', '', ',', '', '!', '', '', '.', '', '', '', '!', '', '', '', '', '', '?', '', '!', '', '!', '', '', ',', '', '', '', '', '', '.', '', '', '', '?', '', '', '', '', '', '', '', '?', '', '', '?', '', '', '', '', '', '.', '?', '', '?', '.', '', '', '', '', '', '.', '', ';', '', '', '', '?', ',', '', '!', '', '!', '', '', '', '', '', '', '', '', '', '', ',', '', '.', '', '', '', '', '', '?', '', '', '', '.', '', '', '', '', '', '?', '', '', '.', '', '', '', '!', '', '!', '', '', '', '', '', '.', '', '', '', '', '', '', '', '!', '', '', '!', '', '', '', '', '?', '', ',', '', '', '', '', '', '', '', '', '', '!', '', '', '', '', '', '', '', '?', '', '', '', '', '.', '', '!', '', '!', '', '', '', '', '!', '', '', '', '', '.', '', '?', '', '', '.', '!', '', '.']\n"
     ]
    }
   ],
   "source": [
    "#Punctuations\n",
    "print(message.str.strip().str.split(\"\\w+\").sum())"
   ]
  },
  {
   "cell_type": "code",
   "execution_count": 192,
   "metadata": {},
   "outputs": [
    {
     "name": "stdout",
     "output_type": "stream",
     "text": [
      "5    Longest word: KAUDEVILLIANUGH\n",
      "Name: Word, dtype: object\n"
     ]
    }
   ],
   "source": [
    "#longest word\n",
    "\n",
    "#Split the words as in word count\n",
    "words = message.str.findall(\"\\w+\").explode()\n",
    "\n",
    "#Find the word that matches the longest word\n",
    "longest_word = words[words.str.len() == words.str.len().max()]\n",
    "\n",
    "#print the longest word\n",
    "print(\"Longest word: \" + longest_word.str.upper())\n"
   ]
  },
  {
   "cell_type": "code",
   "execution_count": 194,
   "metadata": {},
   "outputs": [
    {
     "name": "stdout",
     "output_type": "stream",
     "text": [
      "['maaz']\n"
     ]
    }
   ],
   "source": [
    "#words with m and z\n",
    "\n",
    "m_z = words.str.findall(r\"^m\\w*z$\")\n",
    "\n",
    "print(m_z.sum())"
   ]
  },
  {
   "cell_type": "markdown",
   "metadata": {
    "id": "l3iJnnCJQOh7"
   },
   "source": [
    "\n",
    "\n",
    "## Decode a message\n",
    "\n",
    "Complete the following steps to decode the message.  \n",
    "\n",
    "1. Remove any spaces before or after each word.\n",
    "2. Any time you see the word \"ugh\", with any number of h's, followed by a punctuation mark, delete this.\n",
    "3. No word should be longer than 16 characters. Drop all extra characters beyond 13 off the end of each word.\n",
    "4. Replace all instances of exactly 2 a's with exactly 2 e's.\n",
    "5. Replace all z's with t's.\n",
    "6. Every word that ends in b, change that to a y.  *Hint: look out for punctuation!*\n",
    "7. Every word that starts with k, change that to a v.  *Hint: look out for capitalization!*\n",
    "8. Use `.join()` to recombine all your words into a message.\n",
    "9. Find the movie this quote is from."
   ]
  },
  {
   "cell_type": "code",
   "execution_count": 258,
   "metadata": {},
   "outputs": [
    {
     "name": "stdout",
     "output_type": "stream",
     "text": [
      "Voila! In view, a humble vaudevilliana veteran, cast vicariously as both victim and villain by the vicissitudes of fate. This visage, no mere veneer of vanity, is a vestige of the vox populi now vacant, vanished. However, this valorous visitation of a bygone vexation stands vivified, and has vowed to vanquish these venal and virulent vermin, van guarding vice and vouchsafing the violently vicious and voracious violation of volition. The only verdict is vengeance; a vendetta, held as a votive not in vain, for the value and veracity of such shall one day vindicate the vigilant and the virtuous. Verily this vichyssoise of verbiage veers most verbose, so let me simply add that its my very good honour to meet you and you may call me V.\n"
     ]
    },
    {
     "name": "stderr",
     "output_type": "stream",
     "text": [
      "C:\\Users\\tuke-\\AppData\\Local\\Temp\\ipykernel_23524\\4244284747.py:9: FutureWarning: The default value of regex will change from True to False in a future version.\n",
      "  message = message.str.replace(r\"ugh+[.!?]\", \"\")\n",
      "C:\\Users\\tuke-\\AppData\\Local\\Temp\\ipykernel_23524\\4244284747.py:24: FutureWarning: The default value of regex will change from True to False in a future version.\n",
      "  message = message.str.replace(r\"b$\", \"y\")\n",
      "C:\\Users\\tuke-\\AppData\\Local\\Temp\\ipykernel_23524\\4244284747.py:27: FutureWarning: The default value of regex will change from True to False in a future version.\n",
      "  message = message.str.replace(r\"^k\", \"v\")\n",
      "C:\\Users\\tuke-\\AppData\\Local\\Temp\\ipykernel_23524\\4244284747.py:29: FutureWarning: The default value of regex will change from True to False in a future version.\n",
      "  message = message.str.replace(r\"^K\", \"V\")\n"
     ]
    }
   ],
   "source": [
    "#Load fresh data\n",
    "message = pd.read_csv(\"https://www.dropbox.com/s/lgpn3vmksk3ssdo/scrambled_message.txt?dl=1\")['Word']\n",
    "\n",
    "#Strip whitespace\n",
    "message = message.str.strip()\n",
    "\n",
    "\n",
    "#Replace ugh... with nothing\n",
    "message = message.str.replace(r\"ugh+[.!?]\", \"\")\n",
    "\n",
    "#only take the 13 first characters\n",
    "message = message.str.slice(0,13)\n",
    "\n",
    "#replace aa with ee\n",
    "message = message.str.replace(r\"aa\", \"ee\")\n",
    "\n",
    "#replace z with t\n",
    "message = message.str.replace(r\"z\", \"t\")\n",
    "\n",
    "#split at punctuations\n",
    "#message = message.str.split('([.,])').explode()\n",
    "\n",
    "#replace end of word b's with y's\n",
    "message = message.str.replace(r\"b$\", \"y\")\n",
    "\n",
    "#Replace starting letter, since the line is so short, it seems that just doing it twice is the simplest option\n",
    "message = message.str.replace(r\"^k\", \"v\")\n",
    "\n",
    "message = message.str.replace(r\"^K\", \"V\")\n",
    "\n",
    "message = \" \".join(message)\n",
    "\n",
    "print(message)"
   ]
  },
  {
   "cell_type": "code",
   "execution_count": null,
   "metadata": {},
   "outputs": [],
   "source": []
  }
 ],
 "metadata": {
  "colab": {
   "provenance": []
  },
  "kernelspec": {
   "display_name": "Python 3 (ipykernel)",
   "language": "python",
   "name": "python3"
  },
  "language_info": {
   "codemirror_mode": {
    "name": "ipython",
    "version": 3
   },
   "file_extension": ".py",
   "mimetype": "text/x-python",
   "name": "python",
   "nbconvert_exporter": "python",
   "pygments_lexer": "ipython3",
   "version": "3.11.4"
  }
 },
 "nbformat": 4,
 "nbformat_minor": 1
}
